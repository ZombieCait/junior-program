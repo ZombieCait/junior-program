{
 "cells": [
  {
   "cell_type": "markdown",
   "metadata": {},
   "source": [
    "# План:\n",
    "1. Python\n",
    "2. Numpy\n",
    "3. Pandas\n",
    "4. Regexp + regexp with dataframes\n",
    "5. Texts\n",
    "6. Matplotlib, Seaborn\n",
    "7. Classification, clustering, binary, multiclass, multilabel\n",
    "8. Metrics\n",
    "9. Feature extraction\n",
    "10. Pyspark/sql"
   ]
  },
  {
   "cell_type": "markdown",
   "metadata": {},
   "source": [
    "<img src=\"gifs/start.gif\" width=\"400\">"
   ]
  },
  {
   "cell_type": "markdown",
   "metadata": {},
   "source": [
    "# Python\n",
    "\n",
    "* Целая куча упражнений на типы данных\\операторы и функции\n",
    "\n",
    "https://www.w3resource.com/python-exercises/"
   ]
  },
  {
   "cell_type": "markdown",
   "metadata": {},
   "source": [
    "Типы данных:\n",
    "    * Числа (7382, 3.14, 3+4j, Decimal, Fraction)\n",
    "    * Строки ('net', \"your's\", u'радость')\n",
    "    * Списки ([1, [2, 'three'], 4])\n",
    "    * Словари ({'Alex': 2, 'Brian': 4})\n",
    "    * Кортежи ('Leo', 21.7, 'single')\n",
    "    * Множества (set(1,2,3), {'a', 'b', 'c'})\n",
    "    * Файлы (open('myfile', 'r'))"
   ]
  },
  {
   "cell_type": "markdown",
   "metadata": {},
   "source": [
    "1. Склеить 3 подстроки \"ada\", \"lovelace\", \"was considered the world's first computer programmer.\". Первые две строки сделать с большой буквы.  (★☆☆)"
   ]
  },
  {
   "cell_type": "code",
   "execution_count": null,
   "metadata": {},
   "outputs": [],
   "source": []
  },
  {
   "cell_type": "markdown",
   "metadata": {},
   "source": [
    "2. Удаление лишних пробельных символов справа, слева, с обоих сторон  (☆☆☆)"
   ]
  },
  {
   "cell_type": "code",
   "execution_count": null,
   "metadata": {},
   "outputs": [],
   "source": []
  },
  {
   "cell_type": "markdown",
   "metadata": {},
   "source": [
    "3. Найти первое вхождение в строку подстроки (☆☆☆)"
   ]
  },
  {
   "cell_type": "code",
   "execution_count": 40,
   "metadata": {},
   "outputs": [],
   "source": [
    "s1=\"But if you stick with me, I’m gonna accomplish great things, Morty, and you’re gonna be part of ’em.\"\n",
    "s2=\"you\"\n",
    "\n",
    "##your code"
   ]
  },
  {
   "cell_type": "markdown",
   "metadata": {},
   "source": [
    "* isdigit - состоит ли строка из цифр;\n",
    "* isalpha - состоит ли строка из букв;\n",
    "* isalnum - состоит ли строка из цифр или букв;\n",
    "* islower - состоит ли строка из символов в нижнем регистре;\n",
    "* isupper - состоит ли строка из символов в верхнем регистре;\n",
    "* istitle - начинаются ли слова в строке с заглавной буквы."
   ]
  },
  {
   "cell_type": "markdown",
   "metadata": {},
   "source": [
    "4. Разбить строку по разделителю (☆☆☆)"
   ]
  },
  {
   "cell_type": "code",
   "execution_count": null,
   "metadata": {},
   "outputs": [],
   "source": [
    "s1=\"Holy#cow,#Rick!#I#didn’t#know#hanging#out#with#you#was#making#me#smarter!\"\n",
    "\n",
    "##your code"
   ]
  },
  {
   "cell_type": "markdown",
   "metadata": {},
   "source": [
    "5. Полученный массив строк склеить через пробел (★☆☆)"
   ]
  },
  {
   "cell_type": "code",
   "execution_count": null,
   "metadata": {},
   "outputs": [],
   "source": []
  },
  {
   "cell_type": "markdown",
   "metadata": {},
   "source": [
    "6. Вывести данные из словаря в три строки в виде \"NAME (age AGE) is a JOB\" (★☆☆)\n",
    "\n",
    "(hint: .format())"
   ]
  },
  {
   "cell_type": "code",
   "execution_count": null,
   "metadata": {},
   "outputs": [],
   "source": [
    "personal_data = {1: (\"Ann\", 29, \"Artist\"), \n",
    "               2: (\"Leo\", 54, \"Programmer\"), \n",
    "               3: (\"Tiffany\", 43, \"Shop Assistant\")}\n",
    "\n",
    "##your code"
   ]
  },
  {
   "cell_type": "markdown",
   "metadata": {},
   "source": [
    "7. Требуется определить, является ли данный год високосным. (год является високосным, если его номер кратен 4, но не кратен 100, а также если он кратен 400.)  (★★☆)\n",
    "\n",
    "Входные данные: Вводится единственное число - номер года (целое, положительное, не превышает 30000).\n",
    "\n",
    "Выходные данные: Требуется вывести слово YES, если год является високосным и NO - в противном случае."
   ]
  },
  {
   "cell_type": "code",
   "execution_count": null,
   "metadata": {},
   "outputs": [],
   "source": []
  },
  {
   "cell_type": "markdown",
   "metadata": {},
   "source": [
    "8. Закодируйте каждый элемент списка слов числом, результат сопоставления (слово-число) поместите в словарь.  (★☆☆)"
   ]
  },
  {
   "cell_type": "code",
   "execution_count": 44,
   "metadata": {},
   "outputs": [],
   "source": [
    "words = ['Not', 'my', 'cup', 'of', 'tea']\n",
    "\n",
    "##your code"
   ]
  },
  {
   "cell_type": "markdown",
   "metadata": {},
   "source": [
    "9. Удалить второй элемент из списка по индексу\\по значению  (★☆☆)"
   ]
  },
  {
   "cell_type": "code",
   "execution_count": null,
   "metadata": {},
   "outputs": [],
   "source": [
    "dogs = ['border collie', 'australian cattle dog', 'labrador retriever']\n",
    "\n",
    "##your code"
   ]
  },
  {
   "cell_type": "markdown",
   "metadata": {},
   "source": [
    "10. Вывести срез списка с 3 по 5 элемент включительно и все слова перевести в верхний регистр (★☆☆)"
   ]
  },
  {
   "cell_type": "code",
   "execution_count": 45,
   "metadata": {},
   "outputs": [],
   "source": [
    "dogs = ['border', 'collie', 'australian', 'cattle', 'dog', 'labrador', 'retriever']\n",
    "\n",
    "##your code"
   ]
  },
  {
   "cell_type": "markdown",
   "metadata": {},
   "source": [
    "11. Словарь словарей. Вывести из словаря для каждого питомца его имя, породу, имя владельца, и наличие прививки. Строку вывода формировать через .format() (★☆☆)"
   ]
  },
  {
   "cell_type": "code",
   "execution_count": null,
   "metadata": {},
   "outputs": [],
   "source": [
    "pets = {'willie': {'kind': 'dog', 'owner': 'eric', 'vaccinated': True},\n",
    "        'walter': {'kind': 'cockroach', 'owner': 'eric', 'vaccinated': False},\n",
    "        'peso': {'kind': 'dog', 'owner': 'chloe', 'vaccinated': True},\n",
    "        }\n",
    "\n",
    "##your code"
   ]
  },
  {
   "cell_type": "markdown",
   "metadata": {},
   "source": [
    "12. Проверить является ли множество подмножеством другого множества  (★☆☆)"
   ]
  },
  {
   "cell_type": "code",
   "execution_count": 49,
   "metadata": {},
   "outputs": [],
   "source": [
    "a=set([2, 5, 6])\n",
    "b=set([2, 4, 8, 3, 5, 6])\n",
    "\n",
    "##your code"
   ]
  },
  {
   "cell_type": "markdown",
   "metadata": {},
   "source": [
    "13. Объединить несколько множеств (★☆☆)"
   ]
  },
  {
   "cell_type": "code",
   "execution_count": null,
   "metadata": {},
   "outputs": [],
   "source": [
    "a=set([10, 35, 6, 5])\n",
    "b=set([2, 4, 8, 3, 5, 6, 35])\n",
    "с=set([4, 5, 35])\n",
    "\n",
    "##your code"
   ]
  },
  {
   "cell_type": "markdown",
   "metadata": {},
   "source": [
    "14. Посчитать пересечение множества b с остальными из предыдущего задания  (★★☆)\n",
    "\n",
    "(hint: set.intersection(other, ...) (или set & other &) )"
   ]
  },
  {
   "cell_type": "code",
   "execution_count": null,
   "metadata": {},
   "outputs": [],
   "source": []
  },
  {
   "cell_type": "markdown",
   "metadata": {},
   "source": [
    "15. Вывести множество из элементов, встречающихся в одном множестве, но не встречающиеся в обоих. (★★☆)\n",
    "\n",
    "(hint: .symmetric_difference())"
   ]
  },
  {
   "cell_type": "code",
   "execution_count": 51,
   "metadata": {},
   "outputs": [],
   "source": [
    "a=set([1, 2, 3, 4, 5])\n",
    "b=set([3, 4, 5, 6, 7])\n",
    "\n",
    "##your code"
   ]
  },
  {
   "cell_type": "code",
   "execution_count": null,
   "metadata": {},
   "outputs": [],
   "source": []
  },
  {
   "cell_type": "markdown",
   "metadata": {},
   "source": [
    "16. Предположим, есть файл с данными клиентов. В качестве простого примера воьзьмем txt-файл следующего содержания:\n",
    "\n",
    "    lastname,age,debt,occupation\n",
    "    \n",
    "    Adrianov,25,30000,artist\n",
    "    \n",
    "    Нужно считать файл data/credit_sample.txt.\n",
    "    Сделать словарь вида:\n",
    "        {lastname: (age,debt,occupation)}\n",
    "    \n",
    "    Посчитать сколько уникальных профессий получилось в словаре.\n",
    "    \n",
    "    Результат записать в json (★★★)"
   ]
  },
  {
   "cell_type": "code",
   "execution_count": null,
   "metadata": {},
   "outputs": [],
   "source": []
  },
  {
   "cell_type": "markdown",
   "metadata": {},
   "source": [
    "### os, sys, datetime"
   ]
  },
  {
   "cell_type": "markdown",
   "metadata": {},
   "source": [
    "17. Получить список файлов в папке gifs/ и оставить только файлы с расширением .gif (★★☆)"
   ]
  },
  {
   "cell_type": "code",
   "execution_count": null,
   "metadata": {},
   "outputs": [],
   "source": []
  },
  {
   "cell_type": "markdown",
   "metadata": {},
   "source": [
    "18. Создать папку с названием temp и удалить её (★☆☆)"
   ]
  },
  {
   "cell_type": "code",
   "execution_count": null,
   "metadata": {},
   "outputs": [],
   "source": []
  },
  {
   "cell_type": "markdown",
   "metadata": {},
   "source": [
    "19. Вывести переменные среды (★☆☆)\n",
    "\n",
    "(hint: environ)"
   ]
  },
  {
   "cell_type": "code",
   "execution_count": null,
   "metadata": {},
   "outputs": [],
   "source": []
  },
  {
   "cell_type": "markdown",
   "metadata": {},
   "source": [
    "20. Как игнорировать warrnings?"
   ]
  },
  {
   "cell_type": "markdown",
   "metadata": {},
   "source": [
    "* Про datetime и timedelta \n",
    "\n",
    "https://www.guru99.com/date-time-and-datetime-classes-in-python.html"
   ]
  },
  {
   "cell_type": "markdown",
   "metadata": {},
   "source": [
    "21. Вывести сегодняшнюю, вчерашнюю и завтрашнюю дату (☆☆☆)"
   ]
  },
  {
   "cell_type": "code",
   "execution_count": null,
   "metadata": {},
   "outputs": [],
   "source": []
  },
  {
   "cell_type": "markdown",
   "metadata": {},
   "source": [
    "22. Вывести день недели сегодняшней даты (★☆☆)"
   ]
  },
  {
   "cell_type": "code",
   "execution_count": null,
   "metadata": {},
   "outputs": [],
   "source": []
  },
  {
   "cell_type": "markdown",
   "metadata": {},
   "source": [
    "23. Получить список дат за предыдущую неделю (★★☆)"
   ]
  },
  {
   "cell_type": "code",
   "execution_count": null,
   "metadata": {},
   "outputs": [],
   "source": []
  },
  {
   "cell_type": "markdown",
   "metadata": {},
   "source": [
    "24. Вывести дату с часами и минутами, отформатировать в формате: 01.12.2019 00:12:54 (★★☆)\n",
    "            \n",
    "(hint: now().strftime())"
   ]
  },
  {
   "cell_type": "code",
   "execution_count": null,
   "metadata": {},
   "outputs": [],
   "source": []
  },
  {
   "cell_type": "markdown",
   "metadata": {},
   "source": [
    "25. Исходя из текущей даты вычислить дату предыдущего понедельника (★★★)"
   ]
  },
  {
   "cell_type": "code",
   "execution_count": null,
   "metadata": {},
   "outputs": [],
   "source": []
  },
  {
   "cell_type": "markdown",
   "metadata": {},
   "source": [
    "# Numpy"
   ]
  },
  {
   "cell_type": "markdown",
   "metadata": {},
   "source": [
    "### numpy в картинках (реально лучший):\n",
    "\n",
    "https://jalammar.github.io/visual-numpy/"
   ]
  },
  {
   "cell_type": "code",
   "execution_count": 7,
   "metadata": {},
   "outputs": [],
   "source": [
    "import numpy as np"
   ]
  },
  {
   "cell_type": "markdown",
   "metadata": {},
   "source": [
    "1. Задать нулевой вектор размером 10 (★☆☆)\n",
    "\n",
    "(hint: np.zeros)"
   ]
  },
  {
   "cell_type": "code",
   "execution_count": null,
   "metadata": {},
   "outputs": [],
   "source": []
  },
  {
   "cell_type": "markdown",
   "metadata": {},
   "source": [
    "2. Как найти размер занимаемой памяти любым массивом (★☆☆)\n",
    "\n",
    "(hint: size, itemsize)"
   ]
  },
  {
   "cell_type": "code",
   "execution_count": null,
   "metadata": {},
   "outputs": [],
   "source": []
  },
  {
   "cell_type": "markdown",
   "metadata": {},
   "source": [
    "3. Создать вектор из 10 нулей, кроме пятого элемента, который равен 1 (★☆☆)"
   ]
  },
  {
   "cell_type": "code",
   "execution_count": null,
   "metadata": {},
   "outputs": [],
   "source": []
  },
  {
   "cell_type": "markdown",
   "metadata": {},
   "source": [
    "4. Создать вектор от 10 до 50 включительно (★☆☆)\n",
    "\n",
    "(hint:np.arange)"
   ]
  },
  {
   "cell_type": "code",
   "execution_count": null,
   "metadata": {},
   "outputs": [],
   "source": []
  },
  {
   "cell_type": "markdown",
   "metadata": {},
   "source": [
    "5. Перевернуть вектор (первый элемент будет последним) (★☆☆)"
   ]
  },
  {
   "cell_type": "code",
   "execution_count": null,
   "metadata": {},
   "outputs": [],
   "source": []
  },
  {
   "cell_type": "markdown",
   "metadata": {},
   "source": [
    "6. Создать матрицу 3х3 с элементами от 0 до 8 (★☆☆)\n",
    "\n",
    "(hint: reshape)"
   ]
  },
  {
   "cell_type": "code",
   "execution_count": null,
   "metadata": {},
   "outputs": [],
   "source": []
  },
  {
   "cell_type": "markdown",
   "metadata": {},
   "source": [
    "7. Найти индексы не нулевых эемелентов в numpy array [1,2,0,0,4,0] (★☆☆)\n",
    "\n",
    "(hint: np.nonzero)"
   ]
  },
  {
   "cell_type": "code",
   "execution_count": null,
   "metadata": {},
   "outputs": [],
   "source": []
  },
  {
   "cell_type": "markdown",
   "metadata": {},
   "source": [
    "8. Создать матрицу 10x10 array с рандомными числами и найти минимум, максимум и среднее (★☆☆)"
   ]
  },
  {
   "cell_type": "code",
   "execution_count": null,
   "metadata": {},
   "outputs": [],
   "source": []
  },
  {
   "cell_type": "markdown",
   "metadata": {},
   "source": [
    "9. Создать матрицу 8x8 и заполнить 0 и 1 в стиле шахматной доски (★☆☆)\n",
    "\n",
    "(hint: array[::n])"
   ]
  },
  {
   "cell_type": "code",
   "execution_count": null,
   "metadata": {},
   "outputs": [],
   "source": []
  },
  {
   "cell_type": "markdown",
   "metadata": {},
   "source": [
    "10. Нормализовать рандомную матрицу 5x5 (★☆☆)\n",
    "\n",
    "(hint: (x - mean) / std)"
   ]
  },
  {
   "cell_type": "code",
   "execution_count": null,
   "metadata": {},
   "outputs": [],
   "source": []
  },
  {
   "cell_type": "markdown",
   "metadata": {},
   "source": [
    "11. Найти общие элементы между двумя массивами\n",
    "\n",
    "(hint: np.intersect1d)"
   ]
  },
  {
   "cell_type": "code",
   "execution_count": null,
   "metadata": {},
   "outputs": [],
   "source": []
  },
  {
   "cell_type": "markdown",
   "metadata": {},
   "source": [
    "12. Извлечь целую часть рандомного массива чисел различными способами (максимум 5) (★★☆)"
   ]
  },
  {
   "cell_type": "code",
   "execution_count": null,
   "metadata": {},
   "outputs": [],
   "source": []
  },
  {
   "cell_type": "markdown",
   "metadata": {},
   "source": [
    "13. Создать рандомный вектор размера 10 и отсортировать его (★★☆)"
   ]
  },
  {
   "cell_type": "code",
   "execution_count": null,
   "metadata": {},
   "outputs": [],
   "source": []
  },
  {
   "cell_type": "markdown",
   "metadata": {},
   "source": [
    "14. Проверить одинаковы ли два рандомных массива А и B (★★☆)\n",
    "\n",
    "(hint: np.allclose, np.array_equal)"
   ]
  },
  {
   "cell_type": "code",
   "execution_count": null,
   "metadata": {},
   "outputs": [],
   "source": []
  },
  {
   "cell_type": "markdown",
   "metadata": {},
   "source": [
    "15. Создать рандомный ветор размером 10 и максимальный элемент заменить на -1 (★★☆)\n",
    "\n",
    "(hint: argmax)"
   ]
  },
  {
   "cell_type": "code",
   "execution_count": null,
   "metadata": {},
   "outputs": [],
   "source": []
  },
  {
   "cell_type": "markdown",
   "metadata": {},
   "source": [
    "16. Найдите самый близкий элемент к данному рандомному числу в векторе? (★★☆)\n",
    "\n",
    "(hint: argmin)"
   ]
  },
  {
   "cell_type": "code",
   "execution_count": null,
   "metadata": {},
   "outputs": [],
   "source": [
    "Z = np.arange(100)\n",
    "v = np.random.uniform(0,100)\n",
    "index =  ???????\n",
    "print(Z[index])"
   ]
  },
  {
   "cell_type": "markdown",
   "metadata": {},
   "source": [
    "17. Посчитать среднее для каждой строки матрицы (★★☆)"
   ]
  },
  {
   "cell_type": "code",
   "execution_count": null,
   "metadata": {},
   "outputs": [],
   "source": []
  },
  {
   "cell_type": "markdown",
   "metadata": {},
   "source": [
    "18. Посчитать среднее со скользящим окном над массивом (★★★)\n",
    "\n",
    "(hint: np.cumsum)"
   ]
  },
  {
   "cell_type": "code",
   "execution_count": null,
   "metadata": {},
   "outputs": [],
   "source": []
  },
  {
   "cell_type": "markdown",
   "metadata": {},
   "source": [
    "<img src=\"gifs/bender.gif\" width=\"400\">"
   ]
  },
  {
   "cell_type": "markdown",
   "metadata": {},
   "source": [
    "# Regular expressions\n",
    "\n",
    "* Cупер статья на все времена. Особенно понятно все про такие сложные штуки как lookaround. \n",
    "\n",
    "https://habr.com/ru/post/349860/\n",
    "\n",
    "\n",
    "* Задания на регулярки\n",
    "\n",
    "https://regexone.com/\n",
    "\n",
    "* На этом сайте удобно тестировать регулярку, которую мучаешь, можно написать несколько примеров и тестировать на них. Важно не забывать выбирать Python:\n",
    "\n",
    "https://regex101.com/"
   ]
  },
  {
   "cell_type": "markdown",
   "metadata": {},
   "source": [
    "1. Из строки в файле data/rejson.txt вытащить хэш. Пример:\n",
    "\n",
    "'master_guid': '<b>233880bb4c50d247f84edc9cac9e6e29</b>_2308194320'"
   ]
  },
  {
   "cell_type": "code",
   "execution_count": null,
   "metadata": {},
   "outputs": [],
   "source": []
  },
  {
   "cell_type": "markdown",
   "metadata": {},
   "source": [
    "# Pandas"
   ]
  },
  {
   "cell_type": "markdown",
   "metadata": {},
   "source": [
    "* Pandas в картинках\n",
    "\n",
    "https://jalammar.github.io/gentle-visual-intro-to-data-analysis-python-pandas/\n",
    "\n",
    "* 10 minutes to pandas\n",
    "\n",
    "https://pandas.pydata.org/pandas-docs/stable/getting_started/10min.html\n",
    "\n",
    "* 🐼реально классный твиттер чувака с крутыми pandas tricks:\n",
    "    \n",
    "https://mobile.twitter.com/i/moments/1158828895547854849"
   ]
  },
  {
   "cell_type": "markdown",
   "metadata": {},
   "source": [
    "<img src=\"gifs/inprogress.gif\" width=\"400\">"
   ]
  }
 ],
 "metadata": {
  "kernelspec": {
   "display_name": "Python 3",
   "language": "python",
   "name": "python3"
  },
  "language_info": {
   "codemirror_mode": {
    "name": "ipython",
    "version": 3
   },
   "file_extension": ".py",
   "mimetype": "text/x-python",
   "name": "python",
   "nbconvert_exporter": "python",
   "pygments_lexer": "ipython3",
   "version": "3.6.1"
  }
 },
 "nbformat": 4,
 "nbformat_minor": 2
}
